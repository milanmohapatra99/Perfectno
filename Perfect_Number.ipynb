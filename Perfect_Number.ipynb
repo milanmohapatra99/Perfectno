{
 "cells": [
  {
   "cell_type": "code",
   "execution_count": 4,
   "id": "d4f971e6",
   "metadata": {},
   "outputs": [
    {
     "name": "stdout",
     "output_type": "stream",
     "text": [
      "please give first number a: 28\n",
      "given no. 28  is perfect number\n"
     ]
    }
   ],
   "source": [
    "# w.a.p to display weather no is perfect or not\n",
    "num = int(input(\"please give first number a: \"))\n",
    "sum=0\n",
    "for i in range(1,(num//2)+1):\n",
    "    remainder = num % i\n",
    "    if remainder == 0:\n",
    "        sum = sum + i\n",
    "if sum == num:\n",
    "    print(\"given no.\",num,\" is perfect number\")\n",
    "else:\n",
    "    print(\"given no. \",num,\"is not a perfect number\") "
   ]
  },
  {
   "cell_type": "code",
   "execution_count": null,
   "id": "c15d3df1",
   "metadata": {},
   "outputs": [],
   "source": []
  }
 ],
 "metadata": {
  "kernelspec": {
   "display_name": "Python 3 (ipykernel)",
   "language": "python",
   "name": "python3"
  },
  "language_info": {
   "codemirror_mode": {
    "name": "ipython",
    "version": 3
   },
   "file_extension": ".py",
   "mimetype": "text/x-python",
   "name": "python",
   "nbconvert_exporter": "python",
   "pygments_lexer": "ipython3",
   "version": "3.9.7"
  }
 },
 "nbformat": 4,
 "nbformat_minor": 5
}
